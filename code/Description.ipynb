{
 "cells": [
  {
   "cell_type": "code",
   "execution_count": 2,
   "id": "6562204a",
   "metadata": {},
   "outputs": [],
   "source": [
    "import pandas as pd\n",
    "import numpy as np\n",
    "import matplotlib as plt\n",
    "import seaborn as sns\n",
    "import matplotlib.pyplot as plt\n",
    "from sklearn.impute import KNNImputer\n",
    "from sklearn.model_selection import train_test_split\n",
    "from sklearn.metrics import mean_squared_error, r2_score\n",
    "from sklearn.mixture import GaussianMixture\n"
   ]
  },
  {
   "cell_type": "code",
   "execution_count": 3,
   "id": "9fb68fd1",
   "metadata": {},
   "outputs": [
    {
     "name": "stdout",
     "output_type": "stream",
     "text": [
      "<class 'pandas.core.frame.DataFrame'>\n",
      "RangeIndex: 20000 entries, 0 to 19999\n",
      "Data columns (total 7 columns):\n",
      " #   Column           Non-Null Count  Dtype  \n",
      "---  ------           --------------  -----  \n",
      " 0   Unnamed: 0       20000 non-null  int64  \n",
      " 1   avg_d_kbps       20000 non-null  int64  \n",
      " 2   avg_u_kbps       20000 non-null  int64  \n",
      " 3   avg_lat_ms       20000 non-null  int64  \n",
      " 4   avg_lat_down_ms  19097 non-null  float64\n",
      " 5   avg_lat_up_ms    19127 non-null  float64\n",
      " 6   net_type         20000 non-null  object \n",
      "dtypes: float64(2), int64(4), object(1)\n",
      "memory usage: 1.1+ MB\n"
     ]
    },
    {
     "data": {
      "text/html": [
       "<div>\n",
       "<style scoped>\n",
       "    .dataframe tbody tr th:only-of-type {\n",
       "        vertical-align: middle;\n",
       "    }\n",
       "\n",
       "    .dataframe tbody tr th {\n",
       "        vertical-align: top;\n",
       "    }\n",
       "\n",
       "    .dataframe thead th {\n",
       "        text-align: right;\n",
       "    }\n",
       "</style>\n",
       "<table border=\"1\" class=\"dataframe\">\n",
       "  <thead>\n",
       "    <tr style=\"text-align: right;\">\n",
       "      <th></th>\n",
       "      <th>Unnamed: 0</th>\n",
       "      <th>avg_d_kbps</th>\n",
       "      <th>avg_u_kbps</th>\n",
       "      <th>avg_lat_ms</th>\n",
       "      <th>avg_lat_down_ms</th>\n",
       "      <th>avg_lat_up_ms</th>\n",
       "    </tr>\n",
       "  </thead>\n",
       "  <tbody>\n",
       "    <tr>\n",
       "      <th>count</th>\n",
       "      <td>20000.000000</td>\n",
       "      <td>2.000000e+04</td>\n",
       "      <td>20000.000000</td>\n",
       "      <td>20000.000000</td>\n",
       "      <td>19097.000000</td>\n",
       "      <td>19127.000000</td>\n",
       "    </tr>\n",
       "    <tr>\n",
       "      <th>mean</th>\n",
       "      <td>10000.500000</td>\n",
       "      <td>1.095470e+05</td>\n",
       "      <td>37402.304000</td>\n",
       "      <td>34.833050</td>\n",
       "      <td>676.862177</td>\n",
       "      <td>931.673969</td>\n",
       "    </tr>\n",
       "    <tr>\n",
       "      <th>std</th>\n",
       "      <td>5773.647028</td>\n",
       "      <td>1.331239e+05</td>\n",
       "      <td>70862.574577</td>\n",
       "      <td>66.920457</td>\n",
       "      <td>832.009896</td>\n",
       "      <td>1144.083777</td>\n",
       "    </tr>\n",
       "    <tr>\n",
       "      <th>min</th>\n",
       "      <td>1.000000</td>\n",
       "      <td>4.000000e+00</td>\n",
       "      <td>1.000000</td>\n",
       "      <td>1.000000</td>\n",
       "      <td>2.000000</td>\n",
       "      <td>3.000000</td>\n",
       "    </tr>\n",
       "    <tr>\n",
       "      <th>25%</th>\n",
       "      <td>5000.750000</td>\n",
       "      <td>1.925750e+04</td>\n",
       "      <td>5331.000000</td>\n",
       "      <td>14.000000</td>\n",
       "      <td>207.000000</td>\n",
       "      <td>176.000000</td>\n",
       "    </tr>\n",
       "    <tr>\n",
       "      <th>50%</th>\n",
       "      <td>10000.500000</td>\n",
       "      <td>5.397650e+04</td>\n",
       "      <td>14261.000000</td>\n",
       "      <td>24.000000</td>\n",
       "      <td>432.000000</td>\n",
       "      <td>512.000000</td>\n",
       "    </tr>\n",
       "    <tr>\n",
       "      <th>75%</th>\n",
       "      <td>15000.250000</td>\n",
       "      <td>1.569445e+05</td>\n",
       "      <td>32455.000000</td>\n",
       "      <td>37.000000</td>\n",
       "      <td>802.000000</td>\n",
       "      <td>1253.000000</td>\n",
       "    </tr>\n",
       "    <tr>\n",
       "      <th>max</th>\n",
       "      <td>20000.000000</td>\n",
       "      <td>1.969184e+06</td>\n",
       "      <td>995535.000000</td>\n",
       "      <td>2722.000000</td>\n",
       "      <td>9538.000000</td>\n",
       "      <td>9718.000000</td>\n",
       "    </tr>\n",
       "  </tbody>\n",
       "</table>\n",
       "</div>"
      ],
      "text/plain": [
       "         Unnamed: 0    avg_d_kbps     avg_u_kbps    avg_lat_ms  \\\n",
       "count  20000.000000  2.000000e+04   20000.000000  20000.000000   \n",
       "mean   10000.500000  1.095470e+05   37402.304000     34.833050   \n",
       "std     5773.647028  1.331239e+05   70862.574577     66.920457   \n",
       "min        1.000000  4.000000e+00       1.000000      1.000000   \n",
       "25%     5000.750000  1.925750e+04    5331.000000     14.000000   \n",
       "50%    10000.500000  5.397650e+04   14261.000000     24.000000   \n",
       "75%    15000.250000  1.569445e+05   32455.000000     37.000000   \n",
       "max    20000.000000  1.969184e+06  995535.000000   2722.000000   \n",
       "\n",
       "       avg_lat_down_ms  avg_lat_up_ms  \n",
       "count     19097.000000   19127.000000  \n",
       "mean        676.862177     931.673969  \n",
       "std         832.009896    1144.083777  \n",
       "min           2.000000       3.000000  \n",
       "25%         207.000000     176.000000  \n",
       "50%         432.000000     512.000000  \n",
       "75%         802.000000    1253.000000  \n",
       "max        9538.000000    9718.000000  "
      ]
     },
     "execution_count": 3,
     "metadata": {},
     "output_type": "execute_result"
    }
   ],
   "source": [
    "df = pd.read_csv(r\"C:\\Users\\smith\\Data_analysis\\data\\Dataset.csv\")  \n",
    "df.head()  \n",
    "df.dtypes\n",
    "df.info()\n",
    "df.shape\n",
    "df.describe()"
   ]
  },
  {
   "cell_type": "code",
   "execution_count": 4,
   "id": "ea90e30e",
   "metadata": {},
   "outputs": [],
   "source": [
    "#drop duplicates and unused column\n",
    "df = df.drop(\"Unnamed: 0\", axis = 1)"
   ]
  },
  {
   "cell_type": "code",
   "execution_count": 5,
   "id": "dd6baef9-a03a-4ef6-92d0-2b2b34359d27",
   "metadata": {},
   "outputs": [
    {
     "data": {
      "text/html": [
       "<div>\n",
       "<style scoped>\n",
       "    .dataframe tbody tr th:only-of-type {\n",
       "        vertical-align: middle;\n",
       "    }\n",
       "\n",
       "    .dataframe tbody tr th {\n",
       "        vertical-align: top;\n",
       "    }\n",
       "\n",
       "    .dataframe thead th {\n",
       "        text-align: right;\n",
       "    }\n",
       "</style>\n",
       "<table border=\"1\" class=\"dataframe\">\n",
       "  <thead>\n",
       "    <tr style=\"text-align: right;\">\n",
       "      <th></th>\n",
       "      <th>avg_d_kbps</th>\n",
       "      <th>avg_u_kbps</th>\n",
       "      <th>avg_lat_ms</th>\n",
       "      <th>avg_lat_down_ms</th>\n",
       "      <th>avg_lat_up_ms</th>\n",
       "      <th>net_type</th>\n",
       "    </tr>\n",
       "  </thead>\n",
       "  <tbody>\n",
       "    <tr>\n",
       "      <th>0</th>\n",
       "      <td>9711</td>\n",
       "      <td>1489</td>\n",
       "      <td>21</td>\n",
       "      <td>208.0</td>\n",
       "      <td>NaN</td>\n",
       "      <td>moblie</td>\n",
       "    </tr>\n",
       "    <tr>\n",
       "      <th>1</th>\n",
       "      <td>50073</td>\n",
       "      <td>18199</td>\n",
       "      <td>40</td>\n",
       "      <td>475.0</td>\n",
       "      <td>1954.0</td>\n",
       "      <td>moblie</td>\n",
       "    </tr>\n",
       "    <tr>\n",
       "      <th>2</th>\n",
       "      <td>21784</td>\n",
       "      <td>745</td>\n",
       "      <td>47</td>\n",
       "      <td>1493.0</td>\n",
       "      <td>2252.0</td>\n",
       "      <td>moblie</td>\n",
       "    </tr>\n",
       "    <tr>\n",
       "      <th>3</th>\n",
       "      <td>18159</td>\n",
       "      <td>1662</td>\n",
       "      <td>21</td>\n",
       "      <td>244.0</td>\n",
       "      <td>2067.0</td>\n",
       "      <td>moblie</td>\n",
       "    </tr>\n",
       "    <tr>\n",
       "      <th>4</th>\n",
       "      <td>1439</td>\n",
       "      <td>659</td>\n",
       "      <td>749</td>\n",
       "      <td>2357.0</td>\n",
       "      <td>5083.0</td>\n",
       "      <td>moblie</td>\n",
       "    </tr>\n",
       "  </tbody>\n",
       "</table>\n",
       "</div>"
      ],
      "text/plain": [
       "   avg_d_kbps  avg_u_kbps  avg_lat_ms  avg_lat_down_ms  avg_lat_up_ms net_type\n",
       "0        9711        1489          21            208.0            NaN   moblie\n",
       "1       50073       18199          40            475.0         1954.0   moblie\n",
       "2       21784         745          47           1493.0         2252.0   moblie\n",
       "3       18159        1662          21            244.0         2067.0   moblie\n",
       "4        1439         659         749           2357.0         5083.0   moblie"
      ]
     },
     "execution_count": 5,
     "metadata": {},
     "output_type": "execute_result"
    }
   ],
   "source": [
    "df.head()"
   ]
  },
  {
   "cell_type": "code",
   "execution_count": 6,
   "id": "b527a18e",
   "metadata": {},
   "outputs": [
    {
     "data": {
      "text/html": [
       "<div>\n",
       "<style scoped>\n",
       "    .dataframe tbody tr th:only-of-type {\n",
       "        vertical-align: middle;\n",
       "    }\n",
       "\n",
       "    .dataframe tbody tr th {\n",
       "        vertical-align: top;\n",
       "    }\n",
       "\n",
       "    .dataframe thead th {\n",
       "        text-align: right;\n",
       "    }\n",
       "</style>\n",
       "<table border=\"1\" class=\"dataframe\">\n",
       "  <thead>\n",
       "    <tr style=\"text-align: right;\">\n",
       "      <th></th>\n",
       "      <th>avg_d_kbps</th>\n",
       "      <th>avg_u_kbps</th>\n",
       "      <th>avg_lat_ms</th>\n",
       "      <th>avg_lat_down_ms</th>\n",
       "      <th>avg_lat_up_ms</th>\n",
       "      <th>net_type_fixed</th>\n",
       "      <th>net_type_mobile</th>\n",
       "    </tr>\n",
       "  </thead>\n",
       "  <tbody>\n",
       "    <tr>\n",
       "      <th>0</th>\n",
       "      <td>9711</td>\n",
       "      <td>1489</td>\n",
       "      <td>21</td>\n",
       "      <td>208.0</td>\n",
       "      <td>NaN</td>\n",
       "      <td>0</td>\n",
       "      <td>1</td>\n",
       "    </tr>\n",
       "    <tr>\n",
       "      <th>1</th>\n",
       "      <td>50073</td>\n",
       "      <td>18199</td>\n",
       "      <td>40</td>\n",
       "      <td>475.0</td>\n",
       "      <td>1954.0</td>\n",
       "      <td>0</td>\n",
       "      <td>1</td>\n",
       "    </tr>\n",
       "    <tr>\n",
       "      <th>2</th>\n",
       "      <td>21784</td>\n",
       "      <td>745</td>\n",
       "      <td>47</td>\n",
       "      <td>1493.0</td>\n",
       "      <td>2252.0</td>\n",
       "      <td>0</td>\n",
       "      <td>1</td>\n",
       "    </tr>\n",
       "    <tr>\n",
       "      <th>3</th>\n",
       "      <td>18159</td>\n",
       "      <td>1662</td>\n",
       "      <td>21</td>\n",
       "      <td>244.0</td>\n",
       "      <td>2067.0</td>\n",
       "      <td>0</td>\n",
       "      <td>1</td>\n",
       "    </tr>\n",
       "    <tr>\n",
       "      <th>4</th>\n",
       "      <td>1439</td>\n",
       "      <td>659</td>\n",
       "      <td>749</td>\n",
       "      <td>2357.0</td>\n",
       "      <td>5083.0</td>\n",
       "      <td>0</td>\n",
       "      <td>1</td>\n",
       "    </tr>\n",
       "    <tr>\n",
       "      <th>...</th>\n",
       "      <td>...</td>\n",
       "      <td>...</td>\n",
       "      <td>...</td>\n",
       "      <td>...</td>\n",
       "      <td>...</td>\n",
       "      <td>...</td>\n",
       "      <td>...</td>\n",
       "    </tr>\n",
       "    <tr>\n",
       "      <th>19995</th>\n",
       "      <td>215644</td>\n",
       "      <td>114035</td>\n",
       "      <td>14</td>\n",
       "      <td>384.0</td>\n",
       "      <td>606.0</td>\n",
       "      <td>1</td>\n",
       "      <td>0</td>\n",
       "    </tr>\n",
       "    <tr>\n",
       "      <th>19996</th>\n",
       "      <td>48533</td>\n",
       "      <td>17553</td>\n",
       "      <td>34</td>\n",
       "      <td>172.0</td>\n",
       "      <td>43.0</td>\n",
       "      <td>1</td>\n",
       "      <td>0</td>\n",
       "    </tr>\n",
       "    <tr>\n",
       "      <th>19997</th>\n",
       "      <td>5732</td>\n",
       "      <td>473</td>\n",
       "      <td>52</td>\n",
       "      <td>8039.0</td>\n",
       "      <td>304.0</td>\n",
       "      <td>1</td>\n",
       "      <td>0</td>\n",
       "    </tr>\n",
       "    <tr>\n",
       "      <th>19998</th>\n",
       "      <td>116025</td>\n",
       "      <td>129465</td>\n",
       "      <td>8</td>\n",
       "      <td>91.0</td>\n",
       "      <td>219.0</td>\n",
       "      <td>1</td>\n",
       "      <td>0</td>\n",
       "    </tr>\n",
       "    <tr>\n",
       "      <th>19999</th>\n",
       "      <td>145911</td>\n",
       "      <td>42130</td>\n",
       "      <td>15</td>\n",
       "      <td>139.0</td>\n",
       "      <td>555.0</td>\n",
       "      <td>1</td>\n",
       "      <td>0</td>\n",
       "    </tr>\n",
       "  </tbody>\n",
       "</table>\n",
       "<p>20000 rows × 7 columns</p>\n",
       "</div>"
      ],
      "text/plain": [
       "       avg_d_kbps  avg_u_kbps  avg_lat_ms  avg_lat_down_ms  avg_lat_up_ms  \\\n",
       "0            9711        1489          21            208.0            NaN   \n",
       "1           50073       18199          40            475.0         1954.0   \n",
       "2           21784         745          47           1493.0         2252.0   \n",
       "3           18159        1662          21            244.0         2067.0   \n",
       "4            1439         659         749           2357.0         5083.0   \n",
       "...           ...         ...         ...              ...            ...   \n",
       "19995      215644      114035          14            384.0          606.0   \n",
       "19996       48533       17553          34            172.0           43.0   \n",
       "19997        5732         473          52           8039.0          304.0   \n",
       "19998      116025      129465           8             91.0          219.0   \n",
       "19999      145911       42130          15            139.0          555.0   \n",
       "\n",
       "       net_type_fixed  net_type_mobile  \n",
       "0                   0                1  \n",
       "1                   0                1  \n",
       "2                   0                1  \n",
       "3                   0                1  \n",
       "4                   0                1  \n",
       "...               ...              ...  \n",
       "19995               1                0  \n",
       "19996               1                0  \n",
       "19997               1                0  \n",
       "19998               1                0  \n",
       "19999               1                0  \n",
       "\n",
       "[20000 rows x 7 columns]"
      ]
     },
     "execution_count": 6,
     "metadata": {},
     "output_type": "execute_result"
    }
   ],
   "source": [
    "# encode norminal data of the net_type column\n",
    "\n",
    "#df[\"net_type\"].unique()\n",
    "df = pd.get_dummies(df, columns=[\"net_type\"], dtype=int)\n",
    "df = df.rename(columns={\"net_type_moblie\": \"net_type_mobile\"})\n",
    "df"
   ]
  },
  {
   "cell_type": "code",
   "execution_count": 7,
   "id": "38678eff",
   "metadata": {},
   "outputs": [
    {
     "data": {
      "image/png": "[encoded data removed]",
      "text/plain": [
       "<Figure size 400x400 with 2 Axes>"
      ]
     },
     "metadata": {},
     "output_type": "display_data"
    }
   ],
   "source": [
    "#show missing values and drop any duplicates \n",
    "df = df.drop_duplicates()\n",
    "df.isnull().sum() # avg_lat_down_ms 903 missing , avg_lat_up_ms 873 missing\n",
    "plt.figure(figsize=(4, 4))\n",
    "sns.heatmap(df.isnull())\n",
    "plt.show()"
   ]
  },
  {
   "cell_type": "code",
   "execution_count": 8,
   "id": "a34272bb",
   "metadata": {},
   "outputs": [],
   "source": [
    "#impute the missing values using k nearest neighbors \n",
    "\n",
    "def impute_missing_values(df):\n",
    "    \n",
    "    imputer = KNNImputer(n_neighbors=5)  \n",
    "\n",
    "    for column in df.columns:\n",
    "        if df[column].isnull().sum() > 0:  \n",
    "        \n",
    "           df[column] = imputer.fit_transform(df[column].values.reshape(-1, 1))\n",
    "\n",
    "    return df\n"
   ]
  },
  {
   "cell_type": "code",
   "execution_count": 9,
   "id": "8e313bd6",
   "metadata": {},
   "outputs": [
    {
     "data": {
      "text/plain": [
       "avg_d_kbps         0\n",
       "avg_u_kbps         0\n",
       "avg_lat_ms         0\n",
       "avg_lat_down_ms    0\n",
       "avg_lat_up_ms      0\n",
       "net_type_fixed     0\n",
       "net_type_mobile    0\n",
       "dtype: int64"
      ]
     },
     "execution_count": 9,
     "metadata": {},
     "output_type": "execute_result"
    }
   ],
   "source": [
    "impute_missing_values(df)\n",
    "df.isnull().sum()"
   ]
  },
  {
   "cell_type": "code",
   "execution_count": 10,
   "id": "e4af7c52",
   "metadata": {},
   "outputs": [
    {
     "data": {
      "text/html": [
       "<div>\n",
       "<style scoped>\n",
       "    .dataframe tbody tr th:only-of-type {\n",
       "        vertical-align: middle;\n",
       "    }\n",
       "\n",
       "    .dataframe tbody tr th {\n",
       "        vertical-align: top;\n",
       "    }\n",
       "\n",
       "    .dataframe thead th {\n",
       "        text-align: right;\n",
       "    }\n",
       "</style>\n",
       "<table border=\"1\" class=\"dataframe\">\n",
       "  <thead>\n",
       "    <tr style=\"text-align: right;\">\n",
       "      <th></th>\n",
       "      <th>avg_d_kbps</th>\n",
       "      <th>avg_u_kbps</th>\n",
       "      <th>avg_lat_ms</th>\n",
       "      <th>avg_lat_down_ms</th>\n",
       "      <th>avg_lat_up_ms</th>\n",
       "      <th>net_type_fixed</th>\n",
       "      <th>net_type_mobile</th>\n",
       "      <th>speed_ratio</th>\n",
       "      <th>latency_ratio</th>\n",
       "    </tr>\n",
       "  </thead>\n",
       "  <tbody>\n",
       "    <tr>\n",
       "      <th>0</th>\n",
       "      <td>9711</td>\n",
       "      <td>1489</td>\n",
       "      <td>21</td>\n",
       "      <td>208.0</td>\n",
       "      <td>931.673969</td>\n",
       "      <td>0</td>\n",
       "      <td>1</td>\n",
       "      <td>6.521827</td>\n",
       "      <td>0.223254</td>\n",
       "    </tr>\n",
       "    <tr>\n",
       "      <th>1</th>\n",
       "      <td>50073</td>\n",
       "      <td>18199</td>\n",
       "      <td>40</td>\n",
       "      <td>475.0</td>\n",
       "      <td>1954.000000</td>\n",
       "      <td>0</td>\n",
       "      <td>1</td>\n",
       "      <td>2.751415</td>\n",
       "      <td>0.243091</td>\n",
       "    </tr>\n",
       "    <tr>\n",
       "      <th>2</th>\n",
       "      <td>21784</td>\n",
       "      <td>745</td>\n",
       "      <td>47</td>\n",
       "      <td>1493.0</td>\n",
       "      <td>2252.000000</td>\n",
       "      <td>0</td>\n",
       "      <td>1</td>\n",
       "      <td>29.240268</td>\n",
       "      <td>0.662966</td>\n",
       "    </tr>\n",
       "    <tr>\n",
       "      <th>3</th>\n",
       "      <td>18159</td>\n",
       "      <td>1662</td>\n",
       "      <td>21</td>\n",
       "      <td>244.0</td>\n",
       "      <td>2067.000000</td>\n",
       "      <td>0</td>\n",
       "      <td>1</td>\n",
       "      <td>10.925993</td>\n",
       "      <td>0.118045</td>\n",
       "    </tr>\n",
       "    <tr>\n",
       "      <th>4</th>\n",
       "      <td>1439</td>\n",
       "      <td>659</td>\n",
       "      <td>749</td>\n",
       "      <td>2357.0</td>\n",
       "      <td>5083.000000</td>\n",
       "      <td>0</td>\n",
       "      <td>1</td>\n",
       "      <td>2.183612</td>\n",
       "      <td>0.463703</td>\n",
       "    </tr>\n",
       "    <tr>\n",
       "      <th>...</th>\n",
       "      <td>...</td>\n",
       "      <td>...</td>\n",
       "      <td>...</td>\n",
       "      <td>...</td>\n",
       "      <td>...</td>\n",
       "      <td>...</td>\n",
       "      <td>...</td>\n",
       "      <td>...</td>\n",
       "      <td>...</td>\n",
       "    </tr>\n",
       "    <tr>\n",
       "      <th>19995</th>\n",
       "      <td>215644</td>\n",
       "      <td>114035</td>\n",
       "      <td>14</td>\n",
       "      <td>384.0</td>\n",
       "      <td>606.000000</td>\n",
       "      <td>1</td>\n",
       "      <td>0</td>\n",
       "      <td>1.891033</td>\n",
       "      <td>0.633663</td>\n",
       "    </tr>\n",
       "    <tr>\n",
       "      <th>19996</th>\n",
       "      <td>48533</td>\n",
       "      <td>17553</td>\n",
       "      <td>34</td>\n",
       "      <td>172.0</td>\n",
       "      <td>43.000000</td>\n",
       "      <td>1</td>\n",
       "      <td>0</td>\n",
       "      <td>2.764940</td>\n",
       "      <td>4.000000</td>\n",
       "    </tr>\n",
       "    <tr>\n",
       "      <th>19997</th>\n",
       "      <td>5732</td>\n",
       "      <td>473</td>\n",
       "      <td>52</td>\n",
       "      <td>8039.0</td>\n",
       "      <td>304.000000</td>\n",
       "      <td>1</td>\n",
       "      <td>0</td>\n",
       "      <td>12.118393</td>\n",
       "      <td>26.444079</td>\n",
       "    </tr>\n",
       "    <tr>\n",
       "      <th>19998</th>\n",
       "      <td>116025</td>\n",
       "      <td>129465</td>\n",
       "      <td>8</td>\n",
       "      <td>91.0</td>\n",
       "      <td>219.000000</td>\n",
       "      <td>1</td>\n",
       "      <td>0</td>\n",
       "      <td>0.896188</td>\n",
       "      <td>0.415525</td>\n",
       "    </tr>\n",
       "    <tr>\n",
       "      <th>19999</th>\n",
       "      <td>145911</td>\n",
       "      <td>42130</td>\n",
       "      <td>15</td>\n",
       "      <td>139.0</td>\n",
       "      <td>555.000000</td>\n",
       "      <td>1</td>\n",
       "      <td>0</td>\n",
       "      <td>3.463352</td>\n",
       "      <td>0.250450</td>\n",
       "    </tr>\n",
       "  </tbody>\n",
       "</table>\n",
       "<p>20000 rows × 9 columns</p>\n",
       "</div>"
      ],
      "text/plain": [
       "       avg_d_kbps  avg_u_kbps  avg_lat_ms  avg_lat_down_ms  avg_lat_up_ms  \\\n",
       "0            9711        1489          21            208.0     931.673969   \n",
       "1           50073       18199          40            475.0    1954.000000   \n",
       "2           21784         745          47           1493.0    2252.000000   \n",
       "3           18159        1662          21            244.0    2067.000000   \n",
       "4            1439         659         749           2357.0    5083.000000   \n",
       "...           ...         ...         ...              ...            ...   \n",
       "19995      215644      114035          14            384.0     606.000000   \n",
       "19996       48533       17553          34            172.0      43.000000   \n",
       "19997        5732         473          52           8039.0     304.000000   \n",
       "19998      116025      129465           8             91.0     219.000000   \n",
       "19999      145911       42130          15            139.0     555.000000   \n",
       "\n",
       "       net_type_fixed  net_type_mobile  speed_ratio  latency_ratio  \n",
       "0                   0                1     6.521827       0.223254  \n",
       "1                   0                1     2.751415       0.243091  \n",
       "2                   0                1    29.240268       0.662966  \n",
       "3                   0                1    10.925993       0.118045  \n",
       "4                   0                1     2.183612       0.463703  \n",
       "...               ...              ...          ...            ...  \n",
       "19995               1                0     1.891033       0.633663  \n",
       "19996               1                0     2.764940       4.000000  \n",
       "19997               1                0    12.118393      26.444079  \n",
       "19998               1                0     0.896188       0.415525  \n",
       "19999               1                0     3.463352       0.250450  \n",
       "\n",
       "[20000 rows x 9 columns]"
      ]
     },
     "execution_count": 10,
     "metadata": {},
     "output_type": "execute_result"
    }
   ],
   "source": [
    "#feature engineering\n",
    "\n",
    "#the ratio of download to upload speed as a new feature\n",
    "df[\"speed_ratio\"] = df[\"avg_d_kbps\"] / df[\"avg_u_kbps\"]\n",
    "#the ratio of latency download to upload as new feature\n",
    "df[\"latency_ratio\"] = df[\"avg_lat_down_ms\"] / (df[\"avg_lat_up_ms\"])\n",
    "\n",
    "#categorising the download speeds.\n",
    "low_lim = df[\"avg_d_kbps\"].quantile(0.33)  \n",
    "high_lim = df[\"avg_d_kbps\"].quantile(0.66)  \n",
    "\n",
    "df"
   ]
  },
  {
   "cell_type": "code",
   "execution_count": 11,
   "id": "68d3306e",
   "metadata": {},
   "outputs": [
    {
     "data": {
      "image/png": "[encoded data removed]",
      "text/plain": [
       "<Figure size 200x200 with 1 Axes>"
      ]
     },
     "metadata": {},
     "output_type": "display_data"
    },
    {
     "data": {
      "image/png": "[encoded data removed]",
      "text/plain": [
       "<Figure size 200x200 with 1 Axes>"
      ]
     },
     "metadata": {},
     "output_type": "display_data"
    },
    {
     "data": {
      "image/png": "[encoded data removed]",
      "text/plain": [
       "<Figure size 200x200 with 1 Axes>"
      ]
     },
     "metadata": {},
     "output_type": "display_data"
    },
    {
     "data": {
      "image/png": "[encoded data removed]",
      "text/plain": [
       "<Figure size 200x200 with 1 Axes>"
      ]
     },
     "metadata": {},
     "output_type": "display_data"
    },
    {
     "data": {
      "image/png": "[encoded data removed]",
      "text/plain": [
       "<Figure size 200x200 with 1 Axes>"
      ]
     },
     "metadata": {},
     "output_type": "display_data"
    },
    {
     "data": {
      "image/png": "[encoded data removed]",
      "text/plain": [
       "<Figure size 200x200 with 1 Axes>"
      ]
     },
     "metadata": {},
     "output_type": "display_data"
    },
    {
     "data": {
      "image/png": "[encoded data removed]",
      "text/plain": [
       "<Figure size 200x200 with 1 Axes>"
      ]
     },
     "metadata": {},
     "output_type": "display_data"
    },
    {
     "data": {
      "image/png": "[encoded data removed]",
      "text/plain": [
       "<Figure size 200x200 with 1 Axes>"
      ]
     },
     "metadata": {},
     "output_type": "display_data"
    },
    {
     "data": {
      "image/png": "[encoded data removed]",
      "text/plain": [
       "<Figure size 200x200 with 1 Axes>"
      ]
     },
     "metadata": {},
     "output_type": "display_data"
    }
   ],
   "source": [
    "#plotting the distrubtion of each features a boxplot\n",
    "\n",
    "features = df.columns.tolist()\n",
    "for column in features:\n",
    "    plt.figure(figsize=(2, 2))\n",
    "    sns.boxplot(df[column])\n",
    "    plt.title(column)\n",
    "    plt.show()"
   ]
  },
  {
   "cell_type": "code",
   "execution_count": 12,
   "id": "ccd2b903",
   "metadata": {},
   "outputs": [],
   "source": [
    "#identify outliers: https://www.youtube.com/watch?v=ADY2co093vY\n",
    "\n",
    "def iqr_outlier(df):\n",
    "    features = df.columns.tolist()\n",
    "\n",
    "    for column in features:\n",
    "        q1 = df[column].quantile(0.25)\n",
    "        q3 = df[column].quantile(0.75)\n",
    "        \n",
    "        iqr = q3 - q1 \n",
    "        \n",
    "        up_lim = q3 + (1.5*iqr)\n",
    "        low_lim = q1 - (1.5*iqr)\n",
    "        \n",
    "        df[column] = np.where(df[column]>up_lim, up_lim,\n",
    "                np.where(df[column]<low_lim, low_lim, df[column]))\n",
    "    return df"
   ]
  },
  {
   "cell_type": "code",
   "execution_count": 13,
   "id": "b98257c5-9990-42cd-b1d8-cd479709823d",
   "metadata": {},
   "outputs": [
    {
     "data": {
      "text/html": [
       "<div>\n",
       "<style scoped>\n",
       "    .dataframe tbody tr th:only-of-type {\n",
       "        vertical-align: middle;\n",
       "    }\n",
       "\n",
       "    .dataframe tbody tr th {\n",
       "        vertical-align: top;\n",
       "    }\n",
       "\n",
       "    .dataframe thead th {\n",
       "        text-align: right;\n",
       "    }\n",
       "</style>\n",
       "<table border=\"1\" class=\"dataframe\">\n",
       "  <thead>\n",
       "    <tr style=\"text-align: right;\">\n",
       "      <th></th>\n",
       "      <th>avg_d_kbps</th>\n",
       "      <th>avg_u_kbps</th>\n",
       "      <th>avg_lat_ms</th>\n",
       "      <th>avg_lat_down_ms</th>\n",
       "      <th>avg_lat_up_ms</th>\n",
       "      <th>net_type_fixed</th>\n",
       "      <th>net_type_mobile</th>\n",
       "      <th>speed_ratio</th>\n",
       "      <th>latency_ratio</th>\n",
       "    </tr>\n",
       "  </thead>\n",
       "  <tbody>\n",
       "    <tr>\n",
       "      <th>count</th>\n",
       "      <td>2.000000e+04</td>\n",
       "      <td>20000.000000</td>\n",
       "      <td>20000.000000</td>\n",
       "      <td>20000.000000</td>\n",
       "      <td>20000.000000</td>\n",
       "      <td>20000.000000</td>\n",
       "      <td>20000.000000</td>\n",
       "      <td>20000.000000</td>\n",
       "      <td>20000.000000</td>\n",
       "    </tr>\n",
       "    <tr>\n",
       "      <th>mean</th>\n",
       "      <td>1.095470e+05</td>\n",
       "      <td>37402.304000</td>\n",
       "      <td>34.833050</td>\n",
       "      <td>676.862177</td>\n",
       "      <td>931.673969</td>\n",
       "      <td>0.500000</td>\n",
       "      <td>0.500000</td>\n",
       "      <td>29.034878</td>\n",
       "      <td>1.866344</td>\n",
       "    </tr>\n",
       "    <tr>\n",
       "      <th>std</th>\n",
       "      <td>1.331239e+05</td>\n",
       "      <td>70862.574577</td>\n",
       "      <td>66.920457</td>\n",
       "      <td>813.009377</td>\n",
       "      <td>1118.834276</td>\n",
       "      <td>0.500013</td>\n",
       "      <td>0.500013</td>\n",
       "      <td>2533.430251</td>\n",
       "      <td>4.102619</td>\n",
       "    </tr>\n",
       "    <tr>\n",
       "      <th>min</th>\n",
       "      <td>4.000000e+00</td>\n",
       "      <td>1.000000</td>\n",
       "      <td>1.000000</td>\n",
       "      <td>2.000000</td>\n",
       "      <td>3.000000</td>\n",
       "      <td>0.000000</td>\n",
       "      <td>0.000000</td>\n",
       "      <td>0.003916</td>\n",
       "      <td>0.001395</td>\n",
       "    </tr>\n",
       "    <tr>\n",
       "      <th>25%</th>\n",
       "      <td>1.925750e+04</td>\n",
       "      <td>5331.000000</td>\n",
       "      <td>14.000000</td>\n",
       "      <td>216.000000</td>\n",
       "      <td>186.000000</td>\n",
       "      <td>0.000000</td>\n",
       "      <td>0.000000</td>\n",
       "      <td>1.620839</td>\n",
       "      <td>0.450438</td>\n",
       "    </tr>\n",
       "    <tr>\n",
       "      <th>50%</th>\n",
       "      <td>5.397650e+04</td>\n",
       "      <td>14261.000000</td>\n",
       "      <td>24.000000</td>\n",
       "      <td>460.000000</td>\n",
       "      <td>557.000000</td>\n",
       "      <td>0.500000</td>\n",
       "      <td>0.500000</td>\n",
       "      <td>3.664299</td>\n",
       "      <td>0.820014</td>\n",
       "    </tr>\n",
       "    <tr>\n",
       "      <th>75%</th>\n",
       "      <td>1.569445e+05</td>\n",
       "      <td>32455.000000</td>\n",
       "      <td>37.000000</td>\n",
       "      <td>774.000000</td>\n",
       "      <td>1203.000000</td>\n",
       "      <td>1.000000</td>\n",
       "      <td>1.000000</td>\n",
       "      <td>8.409554</td>\n",
       "      <td>1.753017</td>\n",
       "    </tr>\n",
       "    <tr>\n",
       "      <th>max</th>\n",
       "      <td>1.969184e+06</td>\n",
       "      <td>995535.000000</td>\n",
       "      <td>2722.000000</td>\n",
       "      <td>9538.000000</td>\n",
       "      <td>9718.000000</td>\n",
       "      <td>1.000000</td>\n",
       "      <td>1.000000</td>\n",
       "      <td>357814.000000</td>\n",
       "      <td>166.794872</td>\n",
       "    </tr>\n",
       "  </tbody>\n",
       "</table>\n",
       "</div>"
      ],
      "text/plain": [
       "         avg_d_kbps     avg_u_kbps    avg_lat_ms  avg_lat_down_ms  \\\n",
       "count  2.000000e+04   20000.000000  20000.000000     20000.000000   \n",
       "mean   1.095470e+05   37402.304000     34.833050       676.862177   \n",
       "std    1.331239e+05   70862.574577     66.920457       813.009377   \n",
       "min    4.000000e+00       1.000000      1.000000         2.000000   \n",
       "25%    1.925750e+04    5331.000000     14.000000       216.000000   \n",
       "50%    5.397650e+04   14261.000000     24.000000       460.000000   \n",
       "75%    1.569445e+05   32455.000000     37.000000       774.000000   \n",
       "max    1.969184e+06  995535.000000   2722.000000      9538.000000   \n",
       "\n",
       "       avg_lat_up_ms  net_type_fixed  net_type_mobile    speed_ratio  \\\n",
       "count   20000.000000    20000.000000     20000.000000   20000.000000   \n",
       "mean      931.673969        0.500000         0.500000      29.034878   \n",
       "std      1118.834276        0.500013         0.500013    2533.430251   \n",
       "min         3.000000        0.000000         0.000000       0.003916   \n",
       "25%       186.000000        0.000000         0.000000       1.620839   \n",
       "50%       557.000000        0.500000         0.500000       3.664299   \n",
       "75%      1203.000000        1.000000         1.000000       8.409554   \n",
       "max      9718.000000        1.000000         1.000000  357814.000000   \n",
       "\n",
       "       latency_ratio  \n",
       "count   20000.000000  \n",
       "mean        1.866344  \n",
       "std         4.102619  \n",
       "min         0.001395  \n",
       "25%         0.450438  \n",
       "50%         0.820014  \n",
       "75%         1.753017  \n",
       "max       166.794872  "
      ]
     },
     "execution_count": 13,
     "metadata": {},
     "output_type": "execute_result"
    }
   ],
   "source": [
    "df.describe()"
   ]
  },
  {
   "cell_type": "code",
   "execution_count": 14,
   "id": "fe473758",
   "metadata": {},
   "outputs": [],
   "source": [
    "df = iqr_outlier(df)"
   ]
  },
  {
   "cell_type": "code",
   "execution_count": 15,
   "id": "65e436bb",
   "metadata": {},
   "outputs": [
    {
     "data": {
      "image/png": "[encoded data removed]",
      "text/plain": [
       "<Figure size 200x200 with 1 Axes>"
      ]
     },
     "metadata": {},
     "output_type": "display_data"
    },
    {
     "data": {
      "image/png": "[encoded data removed]",
      "text/plain": [
       "<Figure size 200x200 with 1 Axes>"
      ]
     },
     "metadata": {},
     "output_type": "display_data"
    },
    {
     "data": {
      "image/png": "[encoded data removed]",
      "text/plain": [
       "<Figure size 200x200 with 1 Axes>"
      ]
     },
     "metadata": {},
     "output_type": "display_data"
    },
    {
     "data": {
      "image/png": "[encoded data removed]",
      "text/plain": [
       "<Figure size 200x200 with 1 Axes>"
      ]
     },
     "metadata": {},
     "output_type": "display_data"
    },
    {
     "data": {
      "image/png": "[encoded data removed]",
      "text/plain": [
       "<Figure size 200x200 with 1 Axes>"
      ]
     },
     "metadata": {},
     "output_type": "display_data"
    },
    {
     "data": {
      "image/png": "[encoded data removed]",
      "text/plain": [
       "<Figure size 200x200 with 1 Axes>"
      ]
     },
     "metadata": {},
     "output_type": "display_data"
    },
    {
     "data": {
      "image/png": "[encoded data removed]",
      "text/plain": [
       "<Figure size 200x200 with 1 Axes>"
      ]
     },
     "metadata": {},
     "output_type": "display_data"
    },
    {
     "data": {
      "image/png": "[encoded data removed]",
      "text/plain": [
       "<Figure size 200x200 with 1 Axes>"
      ]
     },
     "metadata": {},
     "output_type": "display_data"
    },
    {
     "data": {
      "image/png": "[encoded data removed]",
      "text/plain": [
       "<Figure size 200x200 with 1 Axes>"
      ]
     },
     "metadata": {},
     "output_type": "display_data"
    }
   ],
   "source": [
    "#showing distrubtion of each feature after hadnling outliers\n",
    "\n",
    "features = df.columns.tolist()\n",
    "for column in features:\n",
    "    if column == \"Download_performance\":\n",
    "        break\n",
    "    plt.figure(figsize=(2, 2))\n",
    "    sns.boxplot(df[column])\n",
    "    plt.title(column)\n",
    "    plt.show()"
   ]
  },
  {
   "cell_type": "code",
   "execution_count": 16,
   "id": "e4c05625",
   "metadata": {},
   "outputs": [],
   "source": [
    "#save the data cleaning steps to be used at the next step\n",
    "df.to_csv(r\"C:\\Users\\smith\\Data_analysis\\data\\Data2.csv\")"
   ]
  },
  {
   "cell_type": "code",
   "execution_count": null,
   "id": "d73696d9",
   "metadata": {},
   "outputs": [],
   "source": []
  },
  {
   "cell_type": "code",
   "execution_count": null,
   "id": "808c6a0e",
   "metadata": {},
   "outputs": [],
   "source": []
  },
  {
   "cell_type": "code",
   "execution_count": null,
   "id": "b7ea6063",
   "metadata": {},
   "outputs": [],
   "source": []
  },
  {
   "cell_type": "code",
   "execution_count": null,
   "id": "2c6ad766-e7f3-40fc-b116-dfdb40f2cd62",
   "metadata": {},
   "outputs": [],
   "source": []
  },
  {
   "cell_type": "code",
   "execution_count": null,
   "id": "1f470ab9-0b42-4999-a10e-e93b4e150417",
   "metadata": {},
   "outputs": [],
   "source": []
  }
 ],
 "metadata": {
  "kernelspec": {
   "display_name": "Python 3 (ipykernel)",
   "language": "python",
   "name": "python3"
  },
  "language_info": {
   "codemirror_mode": {
    "name": "ipython",
    "version": 3
   },
   "file_extension": ".py",
   "mimetype": "text/x-python",
   "name": "python",
   "nbconvert_exporter": "python",
   "pygments_lexer": "ipython3",
   "version": "3.11.5"
  }
 },
 "nbformat": 4,
 "nbformat_minor": 5
}
